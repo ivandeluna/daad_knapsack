{
 "cells": [
  {
   "cell_type": "markdown",
   "metadata": {},
   "source": [
    "# Maximum covering location problem"
   ]
  },
  {
   "cell_type": "markdown",
   "metadata": {},
   "source": [
    "Algoritmo basado en el artículo:\n",
    "\n",
    "A Novel Numerical Approach to the MCLP Based Resilent Supply Chain Optimization.\n",
    "\n",
    "publicado por V. Azhmyakov, J.P. Fernández-Gutiérrez, S.K. Gadi, St. Pickl.\n",
    "\n",
    "Parte 5. Application to the optimal deisgn of a resilent supply chain management system."
   ]
  },
  {
   "cell_type": "code",
   "execution_count": 2,
   "metadata": {},
   "outputs": [],
   "source": [
    "import numpy as np"
   ]
  },
  {
   "cell_type": "markdown",
   "metadata": {},
   "source": [
    "El ejercicio contempla un modelo MCLP básico y optimiza una cadena de suministro resilente para un conjunto de plantas manufactureras y almacenes.\n",
    "La resilencia de este sistema de gestión de cadena de suministro es modelada en este ejercicio con una matriz $A$ con el componente de tipo difuso $a_{ij}$"
   ]
  },
  {
   "cell_type": "markdown",
   "metadata": {},
   "source": [
    "Esta cadena de suministro conceptual se define de $i = 5$ almacenes y $j = 8$ plantas manufactureras. Se plantea integrar a la cadena de suministro $k = 2$ nuevos almacenes.\n",
    "\n",
    "Definimos la matriz $A$ de la siguiente manera:"
   ]
  },
  {
   "cell_type": "code",
   "execution_count": 3,
   "metadata": {},
   "outputs": [],
   "source": [
    "A=np.array([[0.81286, 0.25123, 0.0,     0.54893, 1.0, 0.77105, 0.0,     0.64741],\n",
    "            [0.0,     0.58108, 0.0,     0.90309, 0.0, 0.27081, 0.51569, 0.91733],\n",
    "            [0.0,     0.32049, 0.64850, 0.74559, 0.0, 0.65833, 0.0,     0.60562],\n",
    "            [0.62968, 0.89444, 0.91921, 0.50869, 0.0, 0.60434, 0.0,     0.63874],\n",
    "            [0.0,     0.79300, 0.94740, 0.99279, 0.0, 0.23595, 0.57810, 0.71511]])\n",
    "\n",
    "[i, j] = A.shape"
   ]
  },
  {
   "cell_type": "markdown",
   "metadata": {},
   "source": [
    "Adicionalmente, es necesario definir una matriz $W$ cuyos componentes $w_j$ indican una prioridad y debe de asumirse que es igual a:"
   ]
  },
  {
   "cell_type": "code",
   "execution_count": 4,
   "metadata": {},
   "outputs": [],
   "source": [
    "w = np.array([32.0, 19.0, 41.0, 26.0, 37.0, 49.0, 50.0, 11.0])"
   ]
  },
  {
   "cell_type": "markdown",
   "metadata": {},
   "source": [
    "Se puede observar de la matriz $A$ que el quinto punto de demanda no tiene un carácter resilente ya que solo una fabrica lo cubre.\n",
    "Asumimos que quien toma las decisiones está interesado en abrir otro punto o definido de otra manera, se busca encontrar un punto óptimo $a_{ij}$ de tal forma que:\n",
    "\n",
    "\\begin{equation*}\n",
    "S_{A_i} := \\sum_{j=1}^{n} \\mu_j a_{ij}\n",
    "\\end{equation*}\n",
    "\n",
    "\\begin{equation*}\n",
    "A_i := (a_{ij},..,a_{in})\n",
    "\\end{equation*}\n",
    "\n",
    "definimos $\\mu$ de la siguiente manera:"
   ]
  },
  {
   "cell_type": "code",
   "execution_count": 5,
   "metadata": {},
   "outputs": [],
   "source": [
    "mu = np.array([2,2,1,2,2,2,1,2])"
   ]
  },
  {
   "cell_type": "markdown",
   "metadata": {},
   "source": [
    "multiplicamos la matriz $A$ con el vector $\\mu$ para obtener $S_A$"
   ]
  },
  {
   "cell_type": "code",
   "execution_count": 6,
   "metadata": {},
   "outputs": [],
   "source": [
    "S = np.inner(mu,A)"
   ]
  },
  {
   "cell_type": "markdown",
   "metadata": {},
   "source": [
    "Una vez definidos los componentes necesarios, definimos dos funciones que nos ayudarán a conocer la solución óptima, la primera función $z(n)$ nos ayudará a calcular $Z_h$ en base al parámetro $i$ que nos definirá el número de almacenes o plantas manufactureras.\n",
    "La segunda función $sol(XM, fOptimEn, Zn)$ sirve para definir la solución óptima de las ecuaciónes de optimización."
   ]
  },
  {
   "cell_type": "code",
   "execution_count": 7,
   "metadata": {},
   "outputs": [],
   "source": [
    "def z(n):\n",
    "    ''' \n",
    "    Esta función calcula Z_h en base al parámetro n \n",
    "    que puede ser el número de almacenes o manufactureras\n",
    "    Regresa un vector Z_h de tamaño [2**n-1, n] con valores\n",
    "    booleanos {0,1}\n",
    "    '''\n",
    "    i = 2**n\n",
    "    Z_h = np.zeros((i-1,n))\n",
    "    p = 2**np.arange(n)\n",
    "    for j in range(0,i):\n",
    "        d = j * np.ones((1,n))\n",
    "        Z_h[j-1,] = np.floor((d%(2*p))/p)\n",
    "    return Z_h"
   ]
  },
  {
   "cell_type": "code",
   "execution_count": 8,
   "metadata": {},
   "outputs": [],
   "source": [
    "def sol(XMn, fOptimEn, Zn):\n",
    "    '''\n",
    "    Función que devuelve la solución óptima a las ecuaciónes\n",
    "    Usa los parámetros\n",
    "    XMn - Matriz de tipo XM\n",
    "    fOptimEn - valor máximo de la matriz XMn\n",
    "    Zn - matriz de tipo Z o restricciones\n",
    "    '''\n",
    "    return Zn[np.where(XMn == fOptimEn),:]\n"
   ]
  },
  {
   "cell_type": "markdown",
   "metadata": {},
   "source": [
    "Creamos las variables $Z_i$ y $Z_j$ para encontrar la solución óptima de elección de los componentes de la matriz $A$."
   ]
  },
  {
   "cell_type": "code",
   "execution_count": 9,
   "metadata": {},
   "outputs": [],
   "source": [
    "Zi = z(i)\n",
    "Zj = z(j)"
   ]
  },
  {
   "cell_type": "markdown",
   "metadata": {},
   "source": []
  },
  {
   "cell_type": "code",
   "execution_count": 12,
   "metadata": {},
   "outputs": [],
   "source": [
    "D = np.ones(i)\n",
    "Ii = np.zeros(2**i-1)"
   ]
  },
  {
   "cell_type": "code",
   "execution_count": 14,
   "metadata": {},
   "outputs": [],
   "source": [
    "for i in range(0,2**i-1):\n",
    "    if (np.dot(Z1[i,:],D) == k):\n",
    "        Ii[i] = 1\n",
    "\n",
    "Xi = np.dot(Zi, S)\n",
    "XMi = Xi.transpose()*I1\n",
    "XMi = XMi.transpose()               \n",
    "fOptimE2 = XMi.max()\n",
    "solE2 = sol(XMi, fOptimE2, Zi)"
   ]
  },
  {
   "cell_type": "code",
   "execution_count": 15,
   "metadata": {},
   "outputs": [
    {
     "ename": "ValueError",
     "evalue": "The truth value of an array with more than one element is ambiguous. Use a.any() or a.all()",
     "output_type": "error",
     "traceback": [
      "\u001b[1;31m---------------------------------------------------------------------------\u001b[0m",
      "\u001b[1;31mValueError\u001b[0m                                Traceback (most recent call last)",
      "\u001b[1;32m<ipython-input-15-9c99a3035f6a>\u001b[0m in \u001b[0;36m<module>\u001b[1;34m()\u001b[0m\n\u001b[0;32m      4\u001b[0m \u001b[1;33m\u001b[0m\u001b[0m\n\u001b[0;32m      5\u001b[0m \u001b[1;32mfor\u001b[0m \u001b[0mi\u001b[0m \u001b[1;32min\u001b[0m \u001b[0mrange\u001b[0m\u001b[1;33m(\u001b[0m\u001b[1;36m0\u001b[0m\u001b[1;33m,\u001b[0m \u001b[1;36m2\u001b[0m\u001b[1;33m**\u001b[0m\u001b[0mj\u001b[0m\u001b[1;33m-\u001b[0m\u001b[1;36m1\u001b[0m\u001b[1;33m)\u001b[0m\u001b[1;33m:\u001b[0m\u001b[1;33m\u001b[0m\u001b[0m\n\u001b[1;32m----> 6\u001b[1;33m     if ((Zj[i,0] <= Dj[0]) and\n\u001b[0m\u001b[0;32m      7\u001b[0m         \u001b[1;33m(\u001b[0m\u001b[0mZj\u001b[0m\u001b[1;33m[\u001b[0m\u001b[0mi\u001b[0m\u001b[1;33m,\u001b[0m\u001b[1;36m1\u001b[0m\u001b[1;33m]\u001b[0m \u001b[1;33m<=\u001b[0m \u001b[0mDj\u001b[0m\u001b[1;33m[\u001b[0m\u001b[1;36m1\u001b[0m\u001b[1;33m]\u001b[0m\u001b[1;33m)\u001b[0m \u001b[1;32mand\u001b[0m\u001b[1;33m\u001b[0m\u001b[0m\n\u001b[0;32m      8\u001b[0m         \u001b[1;33m(\u001b[0m\u001b[0mZj\u001b[0m\u001b[1;33m[\u001b[0m\u001b[0mi\u001b[0m\u001b[1;33m,\u001b[0m\u001b[1;36m2\u001b[0m\u001b[1;33m]\u001b[0m \u001b[1;33m<=\u001b[0m \u001b[0mDj\u001b[0m\u001b[1;33m[\u001b[0m\u001b[1;36m2\u001b[0m\u001b[1;33m]\u001b[0m\u001b[1;33m)\u001b[0m \u001b[1;32mand\u001b[0m\u001b[1;33m\u001b[0m\u001b[0m\n",
      "\u001b[1;31mValueError\u001b[0m: The truth value of an array with more than one element is ambiguous. Use a.any() or a.all()"
     ]
    }
   ],
   "source": [
    "Dj = np.inner(A.transpose(),solE2)\n",
    "\n",
    "Ij = np.zeros((2**j-1))\n",
    "\n",
    "for i in range(0, 2**j-1):\n",
    "    if ((Zj[i,0] <= Dj[0]) and\n",
    "        (Zj[i,1] <= Dj[1]) and\n",
    "        (Zj[i,2] <= Dj[2]) and\n",
    "        (Zj[i,3] <= Dj[3]) and\n",
    "        (Zj[i,4] <= Dj[4]) and\n",
    "        (Zj[i,5] <= Dj[5]) and\n",
    "        (Zj[i,6] <= Dj[6]) and\n",
    "        (Zj[i,7] <= Dj[7])):\n",
    "        Ij[i] = 1\n",
    "# Discriminar de vector de funcion objetivo X la combinacion que cumple la\n",
    "# restriccion  \n",
    "Xj = np.inner(w,Zj)\n",
    "XMj =Xj*Ij\n",
    "fOptimE3 = XMj.max()\n",
    "solE3 = sol(XMj, fOptimE3, Zj)"
   ]
  },
  {
   "cell_type": "code",
   "execution_count": null,
   "metadata": {},
   "outputs": [],
   "source": [
    "print(solE2)\n",
    "print(fOptimE2)    \n",
    "print(solE3)\n",
    "print(fOptimE3)"
   ]
  }
 ],
 "metadata": {
  "kernelspec": {
   "display_name": "Python 3",
   "language": "python",
   "name": "python3"
  },
  "language_info": {
   "codemirror_mode": {
    "name": "ipython",
    "version": 3
   },
   "file_extension": ".py",
   "mimetype": "text/x-python",
   "name": "python",
   "nbconvert_exporter": "python",
   "pygments_lexer": "ipython3",
   "version": "3.6.3"
  }
 },
 "nbformat": 4,
 "nbformat_minor": 2
}
